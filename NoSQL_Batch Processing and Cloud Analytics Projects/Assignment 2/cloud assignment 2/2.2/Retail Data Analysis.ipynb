{
 "cells": [
  {
   "cell_type": "code",
   "execution_count": 0,
   "metadata": {
    "application/vnd.databricks.v1+cell": {
     "cellMetadata": {
      "byteLimit": 2048000,
      "rowLimit": 10000
     },
     "inputWidgets": {},
     "nuid": "76be5bb0-d731-4133-88a5-383e068e734d",
     "showTitle": false,
     "title": ""
    }
   },
   "outputs": [],
   "source": [
    "#a\n",
    "data = spark.read.option(\"header\",\"true\").csv(\"/FileStore/tables/Retail/\").cache()\n"
   ]
  },
  {
   "cell_type": "code",
   "execution_count": 0,
   "metadata": {
    "application/vnd.databricks.v1+cell": {
     "cellMetadata": {
      "byteLimit": 2048000,
      "rowLimit": 10000
     },
     "inputWidgets": {},
     "nuid": "7a68c508-f108-4af0-9bce-1a8f061f52b5",
     "showTitle": false,
     "title": ""
    }
   },
   "outputs": [
    {
     "output_type": "stream",
     "name": "stdout",
     "output_type": "stream",
     "text": [
      "+---------+---------+--------------------+--------+-------------------+---------+----------+--------------+\n|InvoiceNo|StockCode|         Description|Quantity|        InvoiceDate|UnitPrice|CustomerID|       Country|\n+---------+---------+--------------------+--------+-------------------+---------+----------+--------------+\n|   580538|    23084|  RABBIT NIGHT LIGHT|      48|2011-12-05 08:38:00|     1.79|   14075.0|United Kingdom|\n|   580538|    23077| DOUGHNUT LIP GLOSS |      20|2011-12-05 08:38:00|     1.25|   14075.0|United Kingdom|\n|   580538|    22906|12 MESSAGE CARDS ...|      24|2011-12-05 08:38:00|     1.65|   14075.0|United Kingdom|\n|   580538|    21914|BLUE HARMONICA IN...|      24|2011-12-05 08:38:00|     1.25|   14075.0|United Kingdom|\n|   580538|    22467|   GUMBALL COAT RACK|       6|2011-12-05 08:38:00|     2.55|   14075.0|United Kingdom|\n|   580538|    21544|SKULLS  WATER TRA...|      48|2011-12-05 08:38:00|     0.85|   14075.0|United Kingdom|\n|   580538|    23126|FELTCRAFT GIRL AM...|       8|2011-12-05 08:38:00|     4.95|   14075.0|United Kingdom|\n|   580538|    21833|CAMOUFLAGE LED TORCH|      24|2011-12-05 08:38:00|     1.69|   14075.0|United Kingdom|\n|   580539|    21479|WHITE SKULL HOT W...|       4|2011-12-05 08:39:00|     4.25|   18180.0|United Kingdom|\n|   580539|   84030E|ENGLISH ROSE HOT ...|       4|2011-12-05 08:39:00|     4.25|   18180.0|United Kingdom|\n|   580539|    23355|HOT WATER BOTTLE ...|       4|2011-12-05 08:39:00|     4.95|   18180.0|United Kingdom|\n|   580539|    22111|SCOTTIE DOG HOT W...|       3|2011-12-05 08:39:00|     4.95|   18180.0|United Kingdom|\n|   580539|    21115|ROSE CARAVAN DOOR...|       8|2011-12-05 08:39:00|     1.95|   18180.0|United Kingdom|\n|   580539|    21411|GINGHAM HEART  DO...|       8|2011-12-05 08:39:00|     1.95|   18180.0|United Kingdom|\n|   580539|    23235|STORAGE TIN VINTA...|      12|2011-12-05 08:39:00|     1.25|   18180.0|United Kingdom|\n|   580539|    23239|SET OF 4 KNICK KN...|       6|2011-12-05 08:39:00|     1.65|   18180.0|United Kingdom|\n|   580539|    22197|      POPCORN HOLDER|      36|2011-12-05 08:39:00|     0.85|   18180.0|United Kingdom|\n|   580539|    22693|GROW A FLYTRAP OR...|      24|2011-12-05 08:39:00|     1.25|   18180.0|United Kingdom|\n|   580539|    22372|AIRLINE BAG VINTA...|       4|2011-12-05 08:39:00|     4.25|   18180.0|United Kingdom|\n|   580539|    22375|AIRLINE BAG VINTA...|       4|2011-12-05 08:39:00|     4.25|   18180.0|United Kingdom|\n+---------+---------+--------------------+--------+-------------------+---------+----------+--------------+\nonly showing top 20 rows\n\n"
     ]
    }
   ],
   "source": [
    "dataSchema = data.schema\n",
    "data.show()"
   ]
  },
  {
   "cell_type": "code",
   "execution_count": 0,
   "metadata": {
    "application/vnd.databricks.v1+cell": {
     "cellMetadata": {
      "byteLimit": 2048000,
      "rowLimit": 10000
     },
     "inputWidgets": {},
     "nuid": "18f4dca4-5f75-49ae-979c-be46a915c425",
     "showTitle": false,
     "title": ""
    }
   },
   "outputs": [
    {
     "output_type": "stream",
     "name": "stdout",
     "output_type": "stream",
     "text": [
      "root\n |-- InvoiceNo: string (nullable = true)\n |-- StockCode: string (nullable = true)\n |-- Description: string (nullable = true)\n |-- Quantity: string (nullable = true)\n |-- InvoiceDate: string (nullable = true)\n |-- UnitPrice: string (nullable = true)\n |-- CustomerID: string (nullable = true)\n |-- Country: string (nullable = true)\n\n"
     ]
    }
   ],
   "source": [
    "data.printSchema()"
   ]
  },
  {
   "cell_type": "code",
   "execution_count": 0,
   "metadata": {
    "application/vnd.databricks.v1+cell": {
     "cellMetadata": {
      "byteLimit": 2048000,
      "rowLimit": 10000
     },
     "inputWidgets": {},
     "nuid": "c1e57791-af55-4a11-a5c8-4f97fe482b2d",
     "showTitle": false,
     "title": ""
    }
   },
   "outputs": [
    {
     "output_type": "stream",
     "name": "stdout",
     "output_type": "stream",
     "text": [
      "Number of rows: 541909\nNumber of distinct InvoiceNo: 25900\n"
     ]
    }
   ],
   "source": [
    "#b\n",
    "# Number of rows\n",
    "num_rows = data.count()\n",
    "\n",
    "# Number of distinct InvoiceNo\n",
    "num_distinct_invoice = data.select(\"InvoiceNo\").distinct().count()\n",
    "\n",
    "print(\"Number of rows:\", num_rows)\n",
    "print(\"Number of distinct InvoiceNo:\", num_distinct_invoice)\n"
   ]
  },
  {
   "cell_type": "code",
   "execution_count": 0,
   "metadata": {
    "application/vnd.databricks.v1+cell": {
     "cellMetadata": {
      "byteLimit": 2048000,
      "rowLimit": 10000
     },
     "inputWidgets": {},
     "nuid": "2979cc94-ad2d-45fc-8caa-510333907c30",
     "showTitle": false,
     "title": ""
    }
   },
   "outputs": [
    {
     "output_type": "stream",
     "name": "stdout",
     "output_type": "stream",
     "text": [
      "+-----------------+\n|TotalTransactions|\n+-----------------+\n|        5176450.0|\n+-----------------+\n\n"
     ]
    }
   ],
   "source": [
    "# number of transactions\n",
    "data.createOrReplaceTempView(\"Retail\")\n",
    "q=\"SELECT SUM (Quantity) as TotalTransactions FROM Retail;\"\n",
    "sqlDF = spark.sql(q)\n",
    "sqlDF.show()"
   ]
  },
  {
   "cell_type": "code",
   "execution_count": 0,
   "metadata": {
    "application/vnd.databricks.v1+cell": {
     "cellMetadata": {
      "byteLimit": 2048000,
      "rowLimit": 10000
     },
     "inputWidgets": {},
     "nuid": "507b6aef-37b2-48ef-a2d9-d881592555f5",
     "showTitle": false,
     "title": ""
    }
   },
   "outputs": [
    {
     "output_type": "stream",
     "name": "stdout",
     "output_type": "stream",
     "text": [
      "+-----------------+\n|       TotalValue|\n+-----------------+\n|9747747.933999462|\n+-----------------+\n\n"
     ]
    }
   ],
   "source": [
    "# Total value of transactions as DataFrame\n",
    "total_value_df = data.withColumn(\"TotalValue\", (col(\"Quantity\") * col(\"UnitPrice\"))).groupBy().agg(sum(\"TotalValue\").alias(\"TotalValue\"))\n",
    "total_value_df.show()\n"
   ]
  },
  {
   "cell_type": "code",
   "execution_count": 0,
   "metadata": {
    "application/vnd.databricks.v1+cell": {
     "cellMetadata": {
      "byteLimit": 2048000,
      "rowLimit": 10000
     },
     "inputWidgets": {},
     "nuid": "e9a6692a-e666-4a32-ad1d-99c715469bb7",
     "showTitle": false,
     "title": ""
    }
   },
   "outputs": [
    {
     "output_type": "stream",
     "name": "stdout",
     "output_type": "stream",
     "text": [
      "+---------+-------------+\n|StockCode|TotalQuantity|\n+---------+-------------+\n|    22197|      56450.0|\n|    84077|      53847.0|\n|   85099B|      47363.0|\n|   85123A|      38830.0|\n|    84879|      36221.0|\n+---------+-------------+\n\n"
     ]
    }
   ],
   "source": [
    "# c \n",
    "data.createOrReplaceTempView(\"Retail\")\n",
    "q=\"SELECT StockCode, SUM (Quantity) as TotalQuantity FROM Retail GROUP BY StockCode ORDER BY TotalQuantity DESC LIMIT 5;\"\n",
    "sqlDF = spark.sql(q)\n",
    "sqlDF.show()\n",
    "     "
   ]
  },
  {
   "cell_type": "code",
   "execution_count": 0,
   "metadata": {
    "application/vnd.databricks.v1+cell": {
     "cellMetadata": {
      "byteLimit": 2048000,
      "rowLimit": 10000
     },
     "inputWidgets": {},
     "nuid": "c6698d2c-0109-4a80-9cb5-a267c7a9ae5a",
     "showTitle": false,
     "title": ""
    }
   },
   "outputs": [
    {
     "output_type": "stream",
     "name": "stdout",
     "output_type": "stream",
     "text": [
      "+---------+-----------------+\n|StockCode|       TotalPrice|\n+---------+-----------------+\n|      DOT|        206245.48|\n|    22423|        164762.19|\n|    47566|         98302.98|\n|   85123A|          97894.5|\n|   85099B|92356.02999999994|\n+---------+-----------------+\n\n"
     ]
    }
   ],
   "source": [
    "# d\n",
    "data.createOrReplaceTempView(\"Retail\")\n",
    "\n",
    "query = \"\"\"\n",
    "    SELECT StockCode, SUM (Quantity*UnitPrice) AS TotalPrice\n",
    "    FROM Retail \n",
    "    GROUP BY StockCode \n",
    "    ORDER BY TotalPrice DESC \n",
    "    LIMIT 5\n",
    "\"\"\"\n",
    "\n",
    "sqlDF = spark.sql(query)\n",
    "\n",
    "sqlDF.show()\n"
   ]
  },
  {
   "cell_type": "code",
   "execution_count": 0,
   "metadata": {
    "application/vnd.databricks.v1+cell": {
     "cellMetadata": {
      "byteLimit": 2048000,
      "rowLimit": 10000
     },
     "inputWidgets": {},
     "nuid": "5ba2fb96-610b-4f67-9e7b-49edf5ff0697",
     "showTitle": false,
     "title": ""
    }
   },
   "outputs": [
    {
     "output_type": "stream",
     "name": "stdout",
     "output_type": "stream",
     "text": [
      "+---------------+------------------+\n|        Country|        TotalValue|\n+---------------+------------------+\n|         Sweden|          36595.91|\n|        Germany|         221698.21|\n|         France|          197403.9|\n|         Greece|           4710.52|\n|        Belgium|          40910.96|\n|        Finland|          22326.74|\n|          Malta|2505.4700000000003|\n|    Unspecified|           4749.79|\n|          Italy|          16890.51|\n|           EIRE|263276.82000000024|\n|         Norway| 35163.45999999999|\n|          Spain| 54774.57999999999|\n|        Denmark|18768.139999999996|\n|      Hong Kong|          10117.04|\n|        Iceland|            4310.0|\n|Channel Islands|20086.290000000005|\n|            USA|1730.9199999999992|\n|    Switzerland| 56385.34999999997|\n|          Japan|35340.619999999995|\n|         Poland|           7213.14|\n+---------------+------------------+\nonly showing top 20 rows\n\n"
     ]
    }
   ],
   "source": [
    "# e\n",
    "data.createOrReplaceTempView(\"Retail\")\n",
    "\n",
    "query = \"\"\"\n",
    "    SELECT Country, SUM (Quantity*UnitPrice) AS TotalValue\n",
    "    FROM Retail \n",
    "    GROUP BY Country\n",
    "\"\"\"\n",
    "sqlDF = spark.sql(query)\n",
    "sqlDF.show()\n",
    "\n"
   ]
  },
  {
   "cell_type": "code",
   "execution_count": 0,
   "metadata": {
    "application/vnd.databricks.v1+cell": {
     "cellMetadata": {
      "byteLimit": 2048000,
      "rowLimit": 10000
     },
     "inputWidgets": {},
     "nuid": "14ee695b-f83a-4cb8-8ffb-b0aa977a2469",
     "showTitle": false,
     "title": ""
    }
   },
   "outputs": [
    {
     "output_type": "stream",
     "name": "stdout",
     "output_type": "stream",
     "text": [
      "+---------------+------------------+\n|        Country|        TotalValue|\n+---------------+------------------+\n| United Kingdom|  8187806.36399976|\n|    Netherlands| 284661.5399999999|\n|           EIRE|263276.82000000024|\n|        Germany|         221698.21|\n|         France|          197403.9|\n|      Australia|137077.26999999996|\n|    Switzerland| 56385.34999999997|\n|          Spain| 54774.57999999999|\n|        Belgium|          40910.96|\n|         Sweden|          36595.91|\n|          Japan|35340.619999999995|\n|         Norway| 35163.45999999999|\n|       Portugal|29367.020000000004|\n|        Finland|          22326.74|\n|Channel Islands|20086.290000000005|\n|        Denmark|18768.139999999996|\n|          Italy|          16890.51|\n|         Cyprus|12946.289999999997|\n|        Austria|          10154.32|\n|      Hong Kong|          10117.04|\n+---------------+------------------+\nonly showing top 20 rows\n\n"
     ]
    }
   ],
   "source": [
    "data.createOrReplaceTempView(\"Retail\")\n",
    "query = \"\"\"\n",
    "    SELECT Country, SUM (Quantity*UnitPrice) AS TotalValue\n",
    "    FROM Retail \n",
    "    GROUP BY Country\n",
    "    ORDER BY TotalValue DESC\n",
    "\"\"\"\n",
    "\n",
    "sqlDF = spark.sql(query)\n",
    "sqlDF.show()\n"
   ]
  },
  {
   "cell_type": "code",
   "execution_count": 0,
   "metadata": {
    "application/vnd.databricks.v1+cell": {
     "cellMetadata": {
      "byteLimit": 2048000,
      "rowLimit": 10000
     },
     "inputWidgets": {},
     "nuid": "efd46de0-65c9-4cf5-9d53-f49854f3df72",
     "showTitle": false,
     "title": ""
    }
   },
   "outputs": [
    {
     "output_type": "stream",
     "name": "stdout",
     "output_type": "stream",
     "text": [
      "+---------+-----------------+\n|StockCode|       TotalPrice|\n+---------+-----------------+\n|      DOT|        206245.48|\n|    22423|        164762.19|\n|    47566|         98302.98|\n|   85123A|          97894.5|\n|   85099B|92356.02999999994|\n+---------+-----------------+\n\n"
     ]
    }
   ],
   "source": [
    "# f\n",
    "data.createOrReplaceTempView(\"Retail\")\n",
    "query = \"\"\"\n",
    "    SELECT StockCode, SUM (Quantity*UnitPrice) AS TotalPrice\n",
    "    FROM Retail \n",
    "    GROUP BY StockCode\n",
    "    ORDER BY TotalPrice DESC\n",
    "    LIMIT 5\n",
    "\"\"\"\n",
    "sqlDF = spark.sql(query)\n",
    "sqlDF.show()\n"
   ]
  },
  {
   "cell_type": "code",
   "execution_count": 0,
   "metadata": {
    "application/vnd.databricks.v1+cell": {
     "cellMetadata": {
      "byteLimit": 2048000,
      "rowLimit": 10000
     },
     "inputWidgets": {},
     "nuid": "40a2dca4-11e8-4c93-8511-5075901fbe47",
     "showTitle": false,
     "title": ""
    }
   },
   "outputs": [
    {
     "output_type": "display_data",
     "data": {
      "text/html": [
       "<style scoped>\n",
       "  .table-result-container {\n",
       "    max-height: 300px;\n",
       "    overflow: auto;\n",
       "  }\n",
       "  table, th, td {\n",
       "    border: 1px solid black;\n",
       "    border-collapse: collapse;\n",
       "  }\n",
       "  th, td {\n",
       "    padding: 5px;\n",
       "  }\n",
       "  th {\n",
       "    text-align: left;\n",
       "  }\n",
       "</style><div class='table-result-container'><table class='table-result'><thead style='background-color: white'><tr><th>StockCode</th><th>TotalPrice</th></tr></thead><tbody><tr><td>DOT</td><td>206245.48</td></tr><tr><td>22423</td><td>164762.19</td></tr><tr><td>47566</td><td>98302.98</td></tr><tr><td>85123A</td><td>97894.5</td></tr><tr><td>85099B</td><td>92356.02999999994</td></tr></tbody></table></div>"
      ]
     },
     "metadata": {
      "application/vnd.databricks.v1+output": {
       "addedWidgets": {},
       "aggData": [],
       "aggError": "",
       "aggOverflow": false,
       "aggSchema": [],
       "aggSeriesLimitReached": false,
       "aggType": "",
       "arguments": {},
       "columnCustomDisplayInfos": {},
       "data": [
        [
         "DOT",
         206245.48
        ],
        [
         "22423",
         164762.19
        ],
        [
         "47566",
         98302.98
        ],
        [
         "85123A",
         97894.5
        ],
        [
         "85099B",
         92356.02999999994
        ]
       ],
       "datasetInfos": [],
       "dbfsResultPath": null,
       "isJsonSchema": true,
       "metadata": {},
       "overflow": false,
       "plotOptions": {
        "customPlotOptions": {},
        "displayType": "table",
        "pivotAggregation": null,
        "pivotColumns": null,
        "xColumns": null,
        "yColumns": null
       },
       "removedWidgets": [],
       "schema": [
        {
         "metadata": "{}",
         "name": "StockCode",
         "type": "\"string\""
        },
        {
         "metadata": "{}",
         "name": "TotalPrice",
         "type": "\"double\""
        }
       ],
       "type": "table"
      }
     },
     "output_type": "display_data"
    }
   ],
   "source": [
    "display(sqlDF)\n"
   ]
  },
  {
   "cell_type": "code",
   "execution_count": 0,
   "metadata": {
    "application/vnd.databricks.v1+cell": {
     "cellMetadata": {
      "byteLimit": 2048000,
      "rowLimit": 10000
     },
     "inputWidgets": {},
     "nuid": "72da1948-c5fa-4154-a103-38131a74e8ca",
     "showTitle": false,
     "title": ""
    }
   },
   "outputs": [
    {
     "output_type": "display_data",
     "data": {
      "image/png": "[encoded data removed]"
     },
     "metadata": {
      "application/vnd.databricks.v1+output": {
       "addedWidgets": {},
       "arguments": {},
       "data": "data:image/png;base64,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\n",
       "datasetInfos": [],
       "metadata": {},
       "removedWidgets": [],
       "type": "image"
      }
     },
     "output_type": "display_data"
    }
   ],
   "source": [
    "import matplotlib.pyplot as plt\n",
    "\n",
    "# Data from the SQL result\n",
    "stockcodes = ['DOT', '22423', '47566', '85123A', '85099B']\n",
    "total_prices = [206245.48, 164762.19, 98302.98, 97894.5, 92356.02999999994]\n",
    "\n",
    "# Create a bar plot\n",
    "plt.figure(figsize=(10, 6))\n",
    "plt.bar(stockcodes, total_prices, color='skyblue')\n",
    "plt.xlabel('Stock Code')\n",
    "plt.ylabel('Total Price')\n",
    "plt.title('Top 5 Stock Codes by Total Price')\n",
    "plt.xticks(rotation=45)\n",
    "plt.tight_layout()\n",
    "plt.show()\n"
   ]
  }
 ],
 "metadata": {
  "application/vnd.databricks.v1+notebook": {
   "dashboards": [],
   "language": "python",
   "notebookMetadata": {
    "pythonIndentUnit": 4
   },
   "notebookName": "Retail Data Analysis",
   "widgets": {}
  }
 },
 "nbformat": 4,
 "nbformat_minor": 0
}
